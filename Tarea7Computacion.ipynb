{
  "nbformat": 4,
  "nbformat_minor": 0,
  "metadata": {
    "colab": {
      "provenance": [],
      "authorship_tag": "ABX9TyOPmhlWcWHYjjBUjGmnlA/j",
      "include_colab_link": true
    },
    "kernelspec": {
      "name": "python3",
      "display_name": "Python 3"
    },
    "language_info": {
      "name": "python"
    }
  },
  "cells": [
    {
      "cell_type": "markdown",
      "metadata": {
        "id": "view-in-github",
        "colab_type": "text"
      },
      "source": [
        "<a href=\"https://colab.research.google.com/github/EGutierrezLuengas/Clase-de-Computacion/blob/main/Tarea7Computacion.ipynb\" target=\"_parent\"><img src=\"https://colab.research.google.com/assets/colab-badge.svg\" alt=\"Open In Colab\"/></a>"
      ]
    },
    {
      "cell_type": "code",
      "execution_count": null,
      "metadata": {
        "id": "4uev6SXK5oSh"
      },
      "outputs": [],
      "source": []
    },
    {
      "cell_type": "markdown",
      "metadata": {
        "id": "Wc_pDVRl5bMT"
      },
      "source": [
        "# Tarea 7: Revisión de los conceptos básicos de Python\n",
        "### Computación - 8108\n",
        "#### Facultad de Ciencias - UNAM\n",
        "#### Profesores: C. Fís. Omar Trejo, C. Fís. Iván Jiménez, Pedro Flores-Silva\n",
        "\n",
        "Instrucciones: Este notebook contiene una serie de ejercicios que deben ser resueltos. Cada ejercicio se encuentra en una celda, ya sea de código o Markdown. Debes crear una o dos *celdas debajo de cada ejercicio* con tu(s) respectiva(s) respuestas. No modifiques las celdas originales.\n",
        "Recuerda que para ejecutar el código de una celda, presionar `Ctlr + Enter` o bien el boton de `play` en el editor Jupyter notebook.\n",
        "\n",
        "Cada ejercicio tendrá diferente valor, y se indicará en la celda de éste. La calificación final será la suma de los puntos obtenidos en cada ejercicio. Se calificará considerando la calidad de la respuesta, la claridad de la explicación y la correctitud del código. Por ejemplo, si el código no ejecuta la respuesta correcta pero se da una idea textual, se demuestra que hay comprensión del problema y el código hace sentido para el revisor, se otorgará una calificación parcial. Esto es, las respuestas no solo se evaluarán como bien o mal, sino que se considerará el esfuerzo. \n",
        "\n",
        "El codigo que realices debes comentarlo donde creas necesario, no vale no hacer ningún comentario. Recuerda que los comentarios son importantes para que el código sea legible y entendible, éstos se agregan con el símbolo # ."
      ]
    },
    {
      "cell_type": "markdown",
      "metadata": {
        "id": "jD2NJ7WX5bMW"
      },
      "source": [
        "### Ejercicio 1 (1 punto):\n",
        "En una celda Markdown contesta: ¿Qué es un nombre reservado en python? Enlista 5 ejemplos de nombres reservados en python y describe su función (aquí debes investigar su función si es que aún no hemos tratado dicho nombre reservado)."
      ]
    },
    {
      "cell_type": "markdown",
      "source": [
        "Un nombre reservado es una palabra que no puede ser usada como nombre de variable, función o demás. Esta se asocia con un código ya establecido y, en consecuencia, posee una función correspondiente.\n",
        "Ejemplos:\n",
        "- False/True -> palabras que son resultado de comparacion u operaciones logicas en Python\n",
        "\n",
        "- def -> define una operación\n",
        "\n",
        "- class -> define una clase\n",
        "\n",
        "- if/elif/else -> declaran condicionales\n",
        "\n",
        "- for -> crea bucles\n",
        "\n",
        "- global -> declara una variable global"
      ],
      "metadata": {
        "id": "N8ROn_Jv6Bev"
      }
    },
    {
      "cell_type": "markdown",
      "metadata": {
        "id": "e3Nco5C05bMX"
      },
      "source": [
        "### Ejercicio 2 (1 punto):\n",
        "En una celda Markdown: Coloca tres ejemplos de nombres de variables que no son válidos en python. Explica por qué no son válidos."
      ]
    },
    {
      "cell_type": "markdown",
      "source": [
        "a) hola-mundo\n",
        "Para el espacio usa un símbolo diferente de '_'.\n",
        "\n",
        "b) 1x\n",
        "No puede haber un número primero.\n",
        "\n",
        "c) l i s t a\n",
        "Hay espacios entre los elementos"
      ],
      "metadata": {
        "id": "nEPVQODC8H0d"
      }
    },
    {
      "cell_type": "markdown",
      "metadata": {
        "id": "rOKYUrCe5bMY"
      },
      "source": [
        "### Ejercicio 3 (3 puntos):\n",
        "Considera el siguiente polinomio: $f(x) = 10x^2 - 2x$. \n",
        "\n",
        "En una celda Markdown escribe:\n",
        "* Los pasos para encontrar sus raíces a través del método del despeje.\n",
        "* Los pasos para encontrar sus raíces a través del método de la chicharronera.\n",
        "\n",
        "En una celda de código, escribe un programa que compruebe que las raíces del polinomio $f(x) = 10x^2 - 2x$ que tu encontraste son correctas. El programa debe imprimir las raíces en la pantalla. (Debes usar la ecuación que obtuviste al depejar el polinomio).\n",
        "\n",
        "En otra celda de código, escribe un programa que encuentre las raíces del polinomio $f(x) = 10x^2 - 2x$ a través del método de la chicharronera. El programa debe imprimir las raíces en la pantalla. (Debes usar la chicharronera).\n",
        "\n",
        "Considera los signos de la chicharronera como dos operaciones diferentes: $(-)$ y $(+)$."
      ]
    },
    {
      "cell_type": "markdown",
      "source": [
        "Método de despeje:\n",
        "Si se considera a c = 0, entonces puede despejarse una x, de tal forma que quedaría x(10x - 2) = 0. Por lo tanto, una raíz sería x = 0. La otra raiz es cuando 10x-2 = 0, por lo que x = 1/5.\n",
        "\n",
        "Método de la chicharronera:\n",
        "Para este método no importa si c = 0 o no. De cualquier forma, se tiene la formula\n",
        "\n",
        "(-b+-(b^2 - 4ac)^1/2) x (2a)^-1, donde una raíz es cuando (b^2 - 4ac)^1/2 es positivo, y la otra cuando (b^2 - 4ac)^1/2 es negativa.\n"
      ],
      "metadata": {
        "id": "jPLLkwEb_fdM"
      }
    },
    {
      "cell_type": "code",
      "source": [
        "#Aquí se elije el método y las variables.\n",
        "def polinomio(a, b, c, x, opcion):\n",
        "  if opcion == 'despeje':\n",
        "    resultado = x*((a*x) + b)\n",
        "  elif opcion == 'chicharronera1':\n",
        "    resultado = ((-1*b) + (((b**2)-(4*a*c))**(1/2)))/(2*a)\n",
        "  else:\n",
        "    resultado = ((-1*b) - (((b**2)-(4*a*c))**(1/2)))/(2*a)\n",
        "\n",
        "  return resultado"
      ],
      "metadata": {
        "id": "CVOFU6QY59tL"
      },
      "execution_count": null,
      "outputs": []
    },
    {
      "cell_type": "code",
      "source": [
        "valor0 = polinomio(10, -2, 0, 1/5, 'despeje')\n",
        "print(valor0)"
      ],
      "metadata": {
        "colab": {
          "base_uri": "https://localhost:8080/"
        },
        "id": "TJ17qDqoEUc-",
        "outputId": "532806b2-2889-4c43-ef93-a50589d4e025"
      },
      "execution_count": null,
      "outputs": [
        {
          "output_type": "stream",
          "name": "stdout",
          "text": [
            "0.0\n"
          ]
        }
      ]
    },
    {
      "cell_type": "code",
      "source": [
        "valor1 = polinomio(10, -2, 0, 1, 'chicharronera1')\n",
        "print(valor1)"
      ],
      "metadata": {
        "colab": {
          "base_uri": "https://localhost:8080/"
        },
        "id": "_TIPWSQfA25s",
        "outputId": "51eff398-fadc-4a2d-a794-8adfdaea72fe"
      },
      "execution_count": null,
      "outputs": [
        {
          "output_type": "stream",
          "name": "stdout",
          "text": [
            "0.2\n"
          ]
        }
      ]
    },
    {
      "cell_type": "code",
      "source": [
        "valor2 = polinomio(10, -2, 0, 1, 'chicharronera2')\n",
        "print(valor2)"
      ],
      "metadata": {
        "colab": {
          "base_uri": "https://localhost:8080/"
        },
        "id": "DVbS73L0DlAe",
        "outputId": "7375da41-31f4-4b3c-ff69-fcebf2e49e6b"
      },
      "execution_count": null,
      "outputs": [
        {
          "output_type": "stream",
          "name": "stdout",
          "text": [
            "0.0\n"
          ]
        }
      ]
    },
    {
      "cell_type": "markdown",
      "metadata": {
        "id": "xfwUFieW5bMZ"
      },
      "source": [
        "### Ejercicio 4 (3 puntos):\n",
        "Caida libre: El gran Galileo Galilei subió la torre de Pisa para determinar el tiempo que tarda un objeto en caer desde una altura $H$ al suelo. Para ello, colocó un objeto de masa $m=100$ kg en la torre y lo dejó caer. El tiempo que tardó en caer fue $t=0.05616667$ minutos.\n",
        "\n",
        "Considerando que la aceleración de la gravedad es $g=9.8$ $\\frac{m}{s^2}$, escribe un programa que determine la altura de la torre de Pisa. El programa debe imprimir la altura en la pantalla.\n",
        "\n",
        "Recuerda que el movimiento de caída libre simplificado cumple la ecuación: $y(t) = H + vt - \\frac{1}{2}gt^2$.\n"
      ]
    },
    {
      "cell_type": "code",
      "source": [
        "#Aquí se definen las variables, para que luego se reemplacen en la operación.\n",
        "a = 9.8\n",
        "t = 3.37\n",
        "y = (a * (t**2))/2\n",
        "print(y, 'metros')"
      ],
      "metadata": {
        "colab": {
          "base_uri": "https://localhost:8080/"
        },
        "id": "gHqvpl0_5-Mp",
        "outputId": "b30d42dc-6421-44e5-c1db-9ac5c5bf0683"
      },
      "execution_count": null,
      "outputs": [
        {
          "output_type": "stream",
          "name": "stdout",
          "text": [
            "55.64881000000001 metros\n"
          ]
        }
      ]
    },
    {
      "cell_type": "markdown",
      "metadata": {
        "id": "qNZ3IedY5bMZ"
      },
      "source": [
        "### Ejercicio 5 (2 puntos):\n",
        "Considera una lista de números enteros del 0 al 99 : `lista = [0,1, 2, 3, 4, ... , 95, 96, 97, 98, 99]`.\n",
        "En una celda de código, escribe un programa que imprima en la pantalla una la lista que cumpla con las siguientes condiciones:\n",
        "* Los ultimos 10 elementos: debe imprimir lo siguiente `[90, 91, 92, 93, 94, 95, 96, 97, 98, 99]`.\n",
        "* Los primeros 11 elementos: debe imprimir lo siguiente `[0, 1, 2, 3, 4, 5, 6, 7, 8, 9, 10]`.\n",
        "* La serie de elementos de la lista que están entre 60 y 75: debe imprimir lo siguiente `[60, 61, 62, 63, 64, 65, 66, 67, 68, 69, 70, 71, 72, 73, 74, 75]`.\n",
        "* El número 50: debe imprimir lo siguiente `50`.\n",
        "\n",
        "Debes aplicar el concepto de *slicing* para resolver este ejercicio (notación de puntos `[:]`).\n",
        "\n",
        "Puntos menos si se crean listas nuevas para cada caso y/o se seleccionan manualmente los valores."
      ]
    },
    {
      "cell_type": "code",
      "source": [
        "#Se crea una lista, y luego imprime los elementos solicitados.\n",
        "lista = list(range(100))\n",
        "print(lista[-10:])\n",
        "print(lista[:11])\n",
        "print(lista[60:76])\n",
        "print(lista[50:51])"
      ],
      "metadata": {
        "colab": {
          "base_uri": "https://localhost:8080/"
        },
        "id": "taDVYw525-qs",
        "outputId": "709effd5-c364-4c5a-e3f1-95ad4169763f"
      },
      "execution_count": null,
      "outputs": [
        {
          "output_type": "stream",
          "name": "stdout",
          "text": [
            "[90, 91, 92, 93, 94, 95, 96, 97, 98, 99]\n",
            "[0, 1, 2, 3, 4, 5, 6, 7, 8, 9, 10]\n",
            "[60, 61, 62, 63, 64, 65, 66, 67, 68, 69, 70, 71, 72, 73, 74, 75]\n",
            "[50]\n"
          ]
        }
      ]
    },
    {
      "cell_type": "markdown",
      "metadata": {
        "id": "7wOsDC3C5bMc"
      },
      "source": [
        "### Puntos extras, este ejercicio es opcional (5 puntos):\n",
        "Replica el código visto en clase para simular los volados. Discute los resultados obtenidos. ¿Qué observas? ¿Qué puedes concluir? ¿Qué pasa cuando la cantidad de volados es muy pequeña? ¿Qué pasa cuando la cantidad de volados es muy grande?\n",
        "\n",
        "En caso de errores con librerias no encontradas, debes hacer en una celda de código lo siguiente:\n",
        "\n",
        "`!pip install nombre_de_la_libreria`. Por ejemplo para plotly: `!pip install plotly`."
      ]
    },
    {
      "cell_type": "code",
      "source": [
        "\n",
        "import pandas as pd\n",
        "import numpy as np\n",
        "from matplotlib import pyplot as plt\n",
        "import plotly.express as px\n",
        "\n",
        "#Elige un número al azar\n",
        "resultados_de_volados = np.random.randint(low=0, high=2, size=1000)\n",
        "resultados_tabla = pd.DataFrame(resultados_de_volados, columns=['Resultados'])\n",
        "resultados_tabla.Resultados.replace({0:'Águila', 1:'Sol'}, inplace=True)\n",
        "\n",
        "fig = px.histogram(resultados_tabla, text_auto=True, labels={\n",
        "                     \"value\": \"Resultado\",\n",
        "                     \"count\": \"Frecuencia\"}, template='plotly_white')\n",
        "fig.update_layout(\n",
        "    title=\"Simulación de tirar mil volados\",\n",
        "    xaxis_title=\"Frecuencia\",\n",
        "    yaxis_title=\"Resultado\"\n",
        ")"
      ],
      "metadata": {
        "colab": {
          "base_uri": "https://localhost:8080/",
          "height": 542
        },
        "id": "gxFWZefh5_NK",
        "outputId": "a4c893e3-3829-4ba9-fc55-f78a73f9c50b"
      },
      "execution_count": null,
      "outputs": [
        {
          "output_type": "display_data",
          "data": {
            "text/html": [
              "<html>\n",
              "<head><meta charset=\"utf-8\" /></head>\n",
              "<body>\n",
              "    <div>            <script src=\"https://cdnjs.cloudflare.com/ajax/libs/mathjax/2.7.5/MathJax.js?config=TeX-AMS-MML_SVG\"></script><script type=\"text/javascript\">if (window.MathJax) {MathJax.Hub.Config({SVG: {font: \"STIX-Web\"}});}</script>                <script type=\"text/javascript\">window.PlotlyConfig = {MathJaxConfig: 'local'};</script>\n",
              "        <script src=\"https://cdn.plot.ly/plotly-2.8.3.min.js\"></script>                <div id=\"f25afc6f-55b9-4b9f-8dba-73402241409a\" class=\"plotly-graph-div\" style=\"height:525px; width:100%;\"></div>            <script type=\"text/javascript\">                                    window.PLOTLYENV=window.PLOTLYENV || {};                                    if (document.getElementById(\"f25afc6f-55b9-4b9f-8dba-73402241409a\")) {                    Plotly.newPlot(                        \"f25afc6f-55b9-4b9f-8dba-73402241409a\",                        [{\"alignmentgroup\":\"True\",\"bingroup\":\"x\",\"hovertemplate\":\"variable=Resultados<br>Resultado=%{x}<br>count=%{y}<extra></extra>\",\"legendgroup\":\"Resultados\",\"marker\":{\"color\":\"#636efa\",\"pattern\":{\"shape\":\"\"}},\"name\":\"Resultados\",\"offsetgroup\":\"Resultados\",\"orientation\":\"v\",\"showlegend\":true,\"texttemplate\":\"%{value}\",\"x\":[\"Sol\",\"Sol\",\"\\u00c1guila\",\"Sol\",\"\\u00c1guila\",\"\\u00c1guila\",\"\\u00c1guila\",\"\\u00c1guila\",\"\\u00c1guila\",\"\\u00c1guila\",\"\\u00c1guila\",\"Sol\",\"\\u00c1guila\",\"\\u00c1guila\",\"\\u00c1guila\",\"Sol\",\"Sol\",\"Sol\",\"\\u00c1guila\",\"\\u00c1guila\",\"\\u00c1guila\",\"\\u00c1guila\",\"Sol\",\"Sol\",\"\\u00c1guila\",\"\\u00c1guila\",\"Sol\",\"Sol\",\"\\u00c1guila\",\"Sol\",\"\\u00c1guila\",\"Sol\",\"\\u00c1guila\",\"\\u00c1guila\",\"Sol\",\"Sol\",\"Sol\",\"Sol\",\"Sol\",\"Sol\",\"Sol\",\"\\u00c1guila\",\"Sol\",\"Sol\",\"\\u00c1guila\",\"\\u00c1guila\",\"\\u00c1guila\",\"Sol\",\"\\u00c1guila\",\"Sol\",\"Sol\",\"Sol\",\"\\u00c1guila\",\"\\u00c1guila\",\"Sol\",\"Sol\",\"\\u00c1guila\",\"\\u00c1guila\",\"Sol\",\"\\u00c1guila\",\"Sol\",\"\\u00c1guila\",\"Sol\",\"\\u00c1guila\",\"\\u00c1guila\",\"Sol\",\"Sol\",\"Sol\",\"\\u00c1guila\",\"\\u00c1guila\",\"Sol\",\"\\u00c1guila\",\"\\u00c1guila\",\"Sol\",\"\\u00c1guila\",\"Sol\",\"\\u00c1guila\",\"Sol\",\"Sol\",\"\\u00c1guila\",\"\\u00c1guila\",\"Sol\",\"Sol\",\"Sol\",\"\\u00c1guila\",\"\\u00c1guila\",\"\\u00c1guila\",\"\\u00c1guila\",\"Sol\",\"\\u00c1guila\",\"\\u00c1guila\",\"Sol\",\"\\u00c1guila\",\"Sol\",\"\\u00c1guila\",\"Sol\",\"Sol\",\"\\u00c1guila\",\"\\u00c1guila\",\"\\u00c1guila\",\"Sol\",\"\\u00c1guila\",\"Sol\",\"\\u00c1guila\",\"\\u00c1guila\",\"\\u00c1guila\",\"Sol\",\"\\u00c1guila\",\"Sol\",\"\\u00c1guila\",\"Sol\",\"Sol\",\"\\u00c1guila\",\"\\u00c1guila\",\"Sol\",\"\\u00c1guila\",\"Sol\",\"\\u00c1guila\",\"Sol\",\"Sol\",\"\\u00c1guila\",\"Sol\",\"\\u00c1guila\",\"\\u00c1guila\",\"\\u00c1guila\",\"Sol\",\"\\u00c1guila\",\"Sol\",\"Sol\",\"Sol\",\"Sol\",\"\\u00c1guila\",\"Sol\",\"\\u00c1guila\",\"Sol\",\"\\u00c1guila\",\"Sol\",\"Sol\",\"Sol\",\"Sol\",\"Sol\",\"Sol\",\"\\u00c1guila\",\"Sol\",\"Sol\",\"Sol\",\"\\u00c1guila\",\"\\u00c1guila\",\"\\u00c1guila\",\"\\u00c1guila\",\"\\u00c1guila\",\"\\u00c1guila\",\"Sol\",\"\\u00c1guila\",\"\\u00c1guila\",\"Sol\",\"Sol\",\"\\u00c1guila\",\"\\u00c1guila\",\"\\u00c1guila\",\"Sol\",\"Sol\",\"\\u00c1guila\",\"\\u00c1guila\",\"Sol\",\"\\u00c1guila\",\"\\u00c1guila\",\"Sol\",\"\\u00c1guila\",\"Sol\",\"Sol\",\"\\u00c1guila\",\"\\u00c1guila\",\"Sol\",\"Sol\",\"Sol\",\"\\u00c1guila\",\"Sol\",\"Sol\",\"Sol\",\"\\u00c1guila\",\"Sol\",\"\\u00c1guila\",\"Sol\",\"Sol\",\"Sol\",\"Sol\",\"Sol\",\"Sol\",\"Sol\",\"Sol\",\"Sol\",\"\\u00c1guila\",\"Sol\",\"\\u00c1guila\",\"\\u00c1guila\",\"Sol\",\"Sol\",\"\\u00c1guila\",\"Sol\",\"\\u00c1guila\",\"Sol\",\"\\u00c1guila\",\"\\u00c1guila\",\"Sol\",\"Sol\",\"Sol\",\"Sol\",\"\\u00c1guila\",\"\\u00c1guila\",\"Sol\",\"Sol\",\"Sol\",\"Sol\",\"\\u00c1guila\",\"\\u00c1guila\",\"\\u00c1guila\",\"\\u00c1guila\",\"\\u00c1guila\",\"\\u00c1guila\",\"\\u00c1guila\",\"Sol\",\"\\u00c1guila\",\"Sol\",\"\\u00c1guila\",\"\\u00c1guila\",\"Sol\",\"Sol\",\"Sol\",\"Sol\",\"\\u00c1guila\",\"\\u00c1guila\",\"Sol\",\"Sol\",\"Sol\",\"\\u00c1guila\",\"Sol\",\"\\u00c1guila\",\"\\u00c1guila\",\"\\u00c1guila\",\"Sol\",\"\\u00c1guila\",\"Sol\",\"Sol\",\"\\u00c1guila\",\"Sol\",\"Sol\",\"\\u00c1guila\",\"Sol\",\"\\u00c1guila\",\"Sol\",\"Sol\",\"Sol\",\"Sol\",\"Sol\",\"Sol\",\"Sol\",\"Sol\",\"\\u00c1guila\",\"\\u00c1guila\",\"Sol\",\"Sol\",\"Sol\",\"Sol\",\"\\u00c1guila\",\"\\u00c1guila\",\"Sol\",\"\\u00c1guila\",\"\\u00c1guila\",\"Sol\",\"\\u00c1guila\",\"Sol\",\"\\u00c1guila\",\"\\u00c1guila\",\"Sol\",\"\\u00c1guila\",\"Sol\",\"\\u00c1guila\",\"Sol\",\"Sol\",\"Sol\",\"Sol\",\"\\u00c1guila\",\"Sol\",\"\\u00c1guila\",\"Sol\",\"Sol\",\"Sol\",\"\\u00c1guila\",\"Sol\",\"Sol\",\"Sol\",\"Sol\",\"Sol\",\"\\u00c1guila\",\"Sol\",\"\\u00c1guila\",\"\\u00c1guila\",\"Sol\",\"Sol\",\"\\u00c1guila\",\"\\u00c1guila\",\"\\u00c1guila\",\"Sol\",\"Sol\",\"\\u00c1guila\",\"\\u00c1guila\",\"\\u00c1guila\",\"Sol\",\"\\u00c1guila\",\"\\u00c1guila\",\"\\u00c1guila\",\"\\u00c1guila\",\"Sol\",\"Sol\",\"\\u00c1guila\",\"Sol\",\"\\u00c1guila\",\"Sol\",\"Sol\",\"Sol\",\"\\u00c1guila\",\"Sol\",\"\\u00c1guila\",\"\\u00c1guila\",\"\\u00c1guila\",\"Sol\",\"\\u00c1guila\",\"Sol\",\"\\u00c1guila\",\"Sol\",\"\\u00c1guila\",\"Sol\",\"Sol\",\"Sol\",\"\\u00c1guila\",\"\\u00c1guila\",\"\\u00c1guila\",\"Sol\",\"\\u00c1guila\",\"\\u00c1guila\",\"Sol\",\"\\u00c1guila\",\"Sol\",\"Sol\",\"Sol\",\"\\u00c1guila\",\"Sol\",\"Sol\",\"\\u00c1guila\",\"Sol\",\"\\u00c1guila\",\"\\u00c1guila\",\"Sol\",\"Sol\",\"Sol\",\"Sol\",\"Sol\",\"\\u00c1guila\",\"\\u00c1guila\",\"Sol\",\"Sol\",\"Sol\",\"\\u00c1guila\",\"\\u00c1guila\",\"Sol\",\"Sol\",\"Sol\",\"Sol\",\"\\u00c1guila\",\"\\u00c1guila\",\"\\u00c1guila\",\"\\u00c1guila\",\"Sol\",\"Sol\",\"Sol\",\"Sol\",\"Sol\",\"Sol\",\"\\u00c1guila\",\"\\u00c1guila\",\"Sol\",\"\\u00c1guila\",\"\\u00c1guila\",\"\\u00c1guila\",\"Sol\",\"\\u00c1guila\",\"\\u00c1guila\",\"Sol\",\"Sol\",\"Sol\",\"\\u00c1guila\",\"Sol\",\"\\u00c1guila\",\"\\u00c1guila\",\"\\u00c1guila\",\"Sol\",\"Sol\",\"Sol\",\"\\u00c1guila\",\"\\u00c1guila\",\"Sol\",\"Sol\",\"\\u00c1guila\",\"Sol\",\"Sol\",\"\\u00c1guila\",\"\\u00c1guila\",\"Sol\",\"Sol\",\"Sol\",\"\\u00c1guila\",\"\\u00c1guila\",\"Sol\",\"Sol\",\"Sol\",\"Sol\",\"\\u00c1guila\",\"Sol\",\"\\u00c1guila\",\"Sol\",\"\\u00c1guila\",\"\\u00c1guila\",\"\\u00c1guila\",\"Sol\",\"\\u00c1guila\",\"\\u00c1guila\",\"Sol\",\"Sol\",\"Sol\",\"Sol\",\"\\u00c1guila\",\"Sol\",\"\\u00c1guila\",\"\\u00c1guila\",\"Sol\",\"\\u00c1guila\",\"\\u00c1guila\",\"Sol\",\"Sol\",\"\\u00c1guila\",\"\\u00c1guila\",\"Sol\",\"Sol\",\"\\u00c1guila\",\"Sol\",\"\\u00c1guila\",\"Sol\",\"Sol\",\"Sol\",\"\\u00c1guila\",\"\\u00c1guila\",\"\\u00c1guila\",\"Sol\",\"\\u00c1guila\",\"Sol\",\"Sol\",\"Sol\",\"\\u00c1guila\",\"Sol\",\"\\u00c1guila\",\"Sol\",\"Sol\",\"Sol\",\"\\u00c1guila\",\"Sol\",\"Sol\",\"\\u00c1guila\",\"Sol\",\"Sol\",\"Sol\",\"\\u00c1guila\",\"Sol\",\"Sol\",\"Sol\",\"\\u00c1guila\",\"\\u00c1guila\",\"\\u00c1guila\",\"\\u00c1guila\",\"Sol\",\"Sol\",\"Sol\",\"Sol\",\"\\u00c1guila\",\"Sol\",\"Sol\",\"Sol\",\"Sol\",\"Sol\",\"\\u00c1guila\",\"\\u00c1guila\",\"\\u00c1guila\",\"\\u00c1guila\",\"\\u00c1guila\",\"Sol\",\"\\u00c1guila\",\"Sol\",\"Sol\",\"\\u00c1guila\",\"\\u00c1guila\",\"Sol\",\"Sol\",\"Sol\",\"\\u00c1guila\",\"\\u00c1guila\",\"Sol\",\"\\u00c1guila\",\"Sol\",\"Sol\",\"\\u00c1guila\",\"\\u00c1guila\",\"Sol\",\"Sol\",\"\\u00c1guila\",\"\\u00c1guila\",\"Sol\",\"Sol\",\"Sol\",\"\\u00c1guila\",\"\\u00c1guila\",\"\\u00c1guila\",\"\\u00c1guila\",\"\\u00c1guila\",\"Sol\",\"\\u00c1guila\",\"\\u00c1guila\",\"Sol\",\"\\u00c1guila\",\"\\u00c1guila\",\"Sol\",\"Sol\",\"Sol\",\"Sol\",\"\\u00c1guila\",\"Sol\",\"Sol\",\"Sol\",\"Sol\",\"Sol\",\"Sol\",\"\\u00c1guila\",\"Sol\",\"Sol\",\"\\u00c1guila\",\"Sol\",\"\\u00c1guila\",\"Sol\",\"\\u00c1guila\",\"\\u00c1guila\",\"\\u00c1guila\",\"Sol\",\"Sol\",\"Sol\",\"Sol\",\"\\u00c1guila\",\"Sol\",\"\\u00c1guila\",\"Sol\",\"\\u00c1guila\",\"Sol\",\"Sol\",\"\\u00c1guila\",\"Sol\",\"Sol\",\"Sol\",\"Sol\",\"Sol\",\"Sol\",\"\\u00c1guila\",\"Sol\",\"\\u00c1guila\",\"Sol\",\"\\u00c1guila\",\"\\u00c1guila\",\"\\u00c1guila\",\"Sol\",\"\\u00c1guila\",\"\\u00c1guila\",\"\\u00c1guila\",\"Sol\",\"\\u00c1guila\",\"Sol\",\"Sol\",\"\\u00c1guila\",\"Sol\",\"Sol\",\"\\u00c1guila\",\"Sol\",\"Sol\",\"Sol\",\"Sol\",\"Sol\",\"\\u00c1guila\",\"\\u00c1guila\",\"\\u00c1guila\",\"Sol\",\"\\u00c1guila\",\"\\u00c1guila\",\"Sol\",\"\\u00c1guila\",\"Sol\",\"\\u00c1guila\",\"\\u00c1guila\",\"Sol\",\"\\u00c1guila\",\"Sol\",\"Sol\",\"Sol\",\"Sol\",\"Sol\",\"\\u00c1guila\",\"\\u00c1guila\",\"\\u00c1guila\",\"\\u00c1guila\",\"\\u00c1guila\",\"Sol\",\"\\u00c1guila\",\"\\u00c1guila\",\"\\u00c1guila\",\"Sol\",\"\\u00c1guila\",\"\\u00c1guila\",\"Sol\",\"Sol\",\"Sol\",\"Sol\",\"Sol\",\"\\u00c1guila\",\"\\u00c1guila\",\"Sol\",\"Sol\",\"Sol\",\"Sol\",\"\\u00c1guila\",\"\\u00c1guila\",\"Sol\",\"\\u00c1guila\",\"Sol\",\"Sol\",\"Sol\",\"\\u00c1guila\",\"Sol\",\"\\u00c1guila\",\"\\u00c1guila\",\"Sol\",\"Sol\",\"Sol\",\"Sol\",\"\\u00c1guila\",\"\\u00c1guila\",\"Sol\",\"\\u00c1guila\",\"\\u00c1guila\",\"Sol\",\"\\u00c1guila\",\"Sol\",\"Sol\",\"Sol\",\"Sol\",\"\\u00c1guila\",\"\\u00c1guila\",\"\\u00c1guila\",\"\\u00c1guila\",\"Sol\",\"\\u00c1guila\",\"\\u00c1guila\",\"Sol\",\"Sol\",\"Sol\",\"Sol\",\"Sol\",\"\\u00c1guila\",\"Sol\",\"Sol\",\"Sol\",\"Sol\",\"Sol\",\"Sol\",\"Sol\",\"\\u00c1guila\",\"Sol\",\"\\u00c1guila\",\"\\u00c1guila\",\"Sol\",\"\\u00c1guila\",\"Sol\",\"\\u00c1guila\",\"Sol\",\"Sol\",\"Sol\",\"\\u00c1guila\",\"Sol\",\"Sol\",\"\\u00c1guila\",\"\\u00c1guila\",\"\\u00c1guila\",\"Sol\",\"\\u00c1guila\",\"Sol\",\"\\u00c1guila\",\"\\u00c1guila\",\"Sol\",\"\\u00c1guila\",\"Sol\",\"Sol\",\"\\u00c1guila\",\"\\u00c1guila\",\"Sol\",\"Sol\",\"Sol\",\"Sol\",\"Sol\",\"\\u00c1guila\",\"Sol\",\"\\u00c1guila\",\"\\u00c1guila\",\"Sol\",\"Sol\",\"\\u00c1guila\",\"\\u00c1guila\",\"Sol\",\"\\u00c1guila\",\"\\u00c1guila\",\"Sol\",\"\\u00c1guila\",\"\\u00c1guila\",\"\\u00c1guila\",\"Sol\",\"Sol\",\"\\u00c1guila\",\"Sol\",\"Sol\",\"Sol\",\"\\u00c1guila\",\"Sol\",\"\\u00c1guila\",\"\\u00c1guila\",\"Sol\",\"\\u00c1guila\",\"\\u00c1guila\",\"Sol\",\"\\u00c1guila\",\"Sol\",\"Sol\",\"\\u00c1guila\",\"Sol\",\"Sol\",\"Sol\",\"Sol\",\"\\u00c1guila\",\"Sol\",\"Sol\",\"\\u00c1guila\",\"\\u00c1guila\",\"\\u00c1guila\",\"\\u00c1guila\",\"Sol\",\"Sol\",\"\\u00c1guila\",\"Sol\",\"\\u00c1guila\",\"\\u00c1guila\",\"\\u00c1guila\",\"Sol\",\"\\u00c1guila\",\"\\u00c1guila\",\"Sol\",\"\\u00c1guila\",\"Sol\",\"Sol\",\"\\u00c1guila\",\"Sol\",\"Sol\",\"Sol\",\"Sol\",\"\\u00c1guila\",\"\\u00c1guila\",\"\\u00c1guila\",\"Sol\",\"Sol\",\"Sol\",\"Sol\",\"\\u00c1guila\",\"\\u00c1guila\",\"Sol\",\"Sol\",\"Sol\",\"\\u00c1guila\",\"Sol\",\"\\u00c1guila\",\"\\u00c1guila\",\"Sol\",\"\\u00c1guila\",\"\\u00c1guila\",\"Sol\",\"Sol\",\"\\u00c1guila\",\"\\u00c1guila\",\"\\u00c1guila\",\"\\u00c1guila\",\"Sol\",\"Sol\",\"\\u00c1guila\",\"\\u00c1guila\",\"Sol\",\"\\u00c1guila\",\"\\u00c1guila\",\"Sol\",\"Sol\",\"Sol\",\"Sol\",\"Sol\",\"Sol\",\"\\u00c1guila\",\"\\u00c1guila\",\"Sol\",\"\\u00c1guila\",\"Sol\",\"\\u00c1guila\",\"\\u00c1guila\",\"\\u00c1guila\",\"\\u00c1guila\",\"\\u00c1guila\",\"\\u00c1guila\",\"\\u00c1guila\",\"Sol\",\"\\u00c1guila\",\"\\u00c1guila\",\"Sol\",\"Sol\",\"\\u00c1guila\",\"\\u00c1guila\",\"\\u00c1guila\",\"Sol\",\"Sol\",\"Sol\",\"Sol\",\"Sol\",\"Sol\",\"Sol\",\"Sol\",\"\\u00c1guila\",\"\\u00c1guila\",\"Sol\",\"Sol\",\"\\u00c1guila\",\"Sol\",\"\\u00c1guila\",\"Sol\",\"Sol\",\"Sol\",\"Sol\",\"\\u00c1guila\",\"Sol\",\"Sol\",\"\\u00c1guila\",\"\\u00c1guila\",\"Sol\",\"Sol\",\"\\u00c1guila\",\"\\u00c1guila\",\"Sol\",\"Sol\",\"Sol\",\"\\u00c1guila\",\"\\u00c1guila\",\"\\u00c1guila\",\"\\u00c1guila\",\"Sol\",\"\\u00c1guila\",\"\\u00c1guila\",\"Sol\",\"Sol\",\"\\u00c1guila\",\"\\u00c1guila\",\"Sol\",\"Sol\",\"Sol\",\"\\u00c1guila\",\"Sol\",\"Sol\",\"Sol\",\"\\u00c1guila\",\"Sol\",\"\\u00c1guila\",\"\\u00c1guila\",\"\\u00c1guila\",\"Sol\",\"\\u00c1guila\",\"\\u00c1guila\",\"Sol\",\"\\u00c1guila\",\"\\u00c1guila\",\"\\u00c1guila\",\"\\u00c1guila\",\"Sol\",\"Sol\",\"\\u00c1guila\",\"\\u00c1guila\",\"Sol\",\"Sol\",\"Sol\",\"Sol\",\"Sol\",\"\\u00c1guila\",\"Sol\",\"\\u00c1guila\",\"Sol\",\"\\u00c1guila\",\"\\u00c1guila\",\"Sol\",\"Sol\",\"Sol\",\"Sol\",\"Sol\",\"\\u00c1guila\",\"\\u00c1guila\",\"\\u00c1guila\",\"Sol\",\"\\u00c1guila\",\"\\u00c1guila\",\"Sol\",\"Sol\",\"\\u00c1guila\",\"Sol\",\"Sol\",\"\\u00c1guila\",\"\\u00c1guila\",\"Sol\",\"Sol\",\"Sol\",\"\\u00c1guila\",\"\\u00c1guila\",\"Sol\",\"Sol\",\"Sol\",\"\\u00c1guila\",\"Sol\",\"\\u00c1guila\",\"\\u00c1guila\",\"Sol\",\"\\u00c1guila\",\"Sol\",\"Sol\",\"Sol\",\"Sol\",\"\\u00c1guila\",\"Sol\",\"Sol\",\"\\u00c1guila\",\"Sol\",\"Sol\",\"Sol\",\"\\u00c1guila\",\"Sol\",\"Sol\",\"Sol\",\"\\u00c1guila\",\"\\u00c1guila\",\"\\u00c1guila\",\"\\u00c1guila\",\"Sol\",\"\\u00c1guila\",\"Sol\",\"\\u00c1guila\",\"\\u00c1guila\",\"\\u00c1guila\",\"\\u00c1guila\",\"\\u00c1guila\",\"\\u00c1guila\",\"Sol\",\"\\u00c1guila\",\"Sol\",\"Sol\",\"\\u00c1guila\",\"Sol\",\"\\u00c1guila\",\"Sol\",\"Sol\",\"Sol\",\"Sol\",\"Sol\",\"Sol\",\"Sol\",\"\\u00c1guila\",\"Sol\",\"Sol\",\"\\u00c1guila\",\"Sol\",\"\\u00c1guila\",\"\\u00c1guila\",\"Sol\",\"\\u00c1guila\",\"\\u00c1guila\",\"Sol\",\"\\u00c1guila\",\"\\u00c1guila\",\"Sol\",\"\\u00c1guila\",\"\\u00c1guila\"],\"xaxis\":\"x\",\"yaxis\":\"y\",\"type\":\"histogram\"}],                        {\"template\":{\"data\":{\"barpolar\":[{\"marker\":{\"line\":{\"color\":\"white\",\"width\":0.5},\"pattern\":{\"fillmode\":\"overlay\",\"size\":10,\"solidity\":0.2}},\"type\":\"barpolar\"}],\"bar\":[{\"error_x\":{\"color\":\"#2a3f5f\"},\"error_y\":{\"color\":\"#2a3f5f\"},\"marker\":{\"line\":{\"color\":\"white\",\"width\":0.5},\"pattern\":{\"fillmode\":\"overlay\",\"size\":10,\"solidity\":0.2}},\"type\":\"bar\"}],\"carpet\":[{\"aaxis\":{\"endlinecolor\":\"#2a3f5f\",\"gridcolor\":\"#C8D4E3\",\"linecolor\":\"#C8D4E3\",\"minorgridcolor\":\"#C8D4E3\",\"startlinecolor\":\"#2a3f5f\"},\"baxis\":{\"endlinecolor\":\"#2a3f5f\",\"gridcolor\":\"#C8D4E3\",\"linecolor\":\"#C8D4E3\",\"minorgridcolor\":\"#C8D4E3\",\"startlinecolor\":\"#2a3f5f\"},\"type\":\"carpet\"}],\"choropleth\":[{\"colorbar\":{\"outlinewidth\":0,\"ticks\":\"\"},\"type\":\"choropleth\"}],\"contourcarpet\":[{\"colorbar\":{\"outlinewidth\":0,\"ticks\":\"\"},\"type\":\"contourcarpet\"}],\"contour\":[{\"colorbar\":{\"outlinewidth\":0,\"ticks\":\"\"},\"colorscale\":[[0.0,\"#0d0887\"],[0.1111111111111111,\"#46039f\"],[0.2222222222222222,\"#7201a8\"],[0.3333333333333333,\"#9c179e\"],[0.4444444444444444,\"#bd3786\"],[0.5555555555555556,\"#d8576b\"],[0.6666666666666666,\"#ed7953\"],[0.7777777777777778,\"#fb9f3a\"],[0.8888888888888888,\"#fdca26\"],[1.0,\"#f0f921\"]],\"type\":\"contour\"}],\"heatmapgl\":[{\"colorbar\":{\"outlinewidth\":0,\"ticks\":\"\"},\"colorscale\":[[0.0,\"#0d0887\"],[0.1111111111111111,\"#46039f\"],[0.2222222222222222,\"#7201a8\"],[0.3333333333333333,\"#9c179e\"],[0.4444444444444444,\"#bd3786\"],[0.5555555555555556,\"#d8576b\"],[0.6666666666666666,\"#ed7953\"],[0.7777777777777778,\"#fb9f3a\"],[0.8888888888888888,\"#fdca26\"],[1.0,\"#f0f921\"]],\"type\":\"heatmapgl\"}],\"heatmap\":[{\"colorbar\":{\"outlinewidth\":0,\"ticks\":\"\"},\"colorscale\":[[0.0,\"#0d0887\"],[0.1111111111111111,\"#46039f\"],[0.2222222222222222,\"#7201a8\"],[0.3333333333333333,\"#9c179e\"],[0.4444444444444444,\"#bd3786\"],[0.5555555555555556,\"#d8576b\"],[0.6666666666666666,\"#ed7953\"],[0.7777777777777778,\"#fb9f3a\"],[0.8888888888888888,\"#fdca26\"],[1.0,\"#f0f921\"]],\"type\":\"heatmap\"}],\"histogram2dcontour\":[{\"colorbar\":{\"outlinewidth\":0,\"ticks\":\"\"},\"colorscale\":[[0.0,\"#0d0887\"],[0.1111111111111111,\"#46039f\"],[0.2222222222222222,\"#7201a8\"],[0.3333333333333333,\"#9c179e\"],[0.4444444444444444,\"#bd3786\"],[0.5555555555555556,\"#d8576b\"],[0.6666666666666666,\"#ed7953\"],[0.7777777777777778,\"#fb9f3a\"],[0.8888888888888888,\"#fdca26\"],[1.0,\"#f0f921\"]],\"type\":\"histogram2dcontour\"}],\"histogram2d\":[{\"colorbar\":{\"outlinewidth\":0,\"ticks\":\"\"},\"colorscale\":[[0.0,\"#0d0887\"],[0.1111111111111111,\"#46039f\"],[0.2222222222222222,\"#7201a8\"],[0.3333333333333333,\"#9c179e\"],[0.4444444444444444,\"#bd3786\"],[0.5555555555555556,\"#d8576b\"],[0.6666666666666666,\"#ed7953\"],[0.7777777777777778,\"#fb9f3a\"],[0.8888888888888888,\"#fdca26\"],[1.0,\"#f0f921\"]],\"type\":\"histogram2d\"}],\"histogram\":[{\"marker\":{\"pattern\":{\"fillmode\":\"overlay\",\"size\":10,\"solidity\":0.2}},\"type\":\"histogram\"}],\"mesh3d\":[{\"colorbar\":{\"outlinewidth\":0,\"ticks\":\"\"},\"type\":\"mesh3d\"}],\"parcoords\":[{\"line\":{\"colorbar\":{\"outlinewidth\":0,\"ticks\":\"\"}},\"type\":\"parcoords\"}],\"pie\":[{\"automargin\":true,\"type\":\"pie\"}],\"scatter3d\":[{\"line\":{\"colorbar\":{\"outlinewidth\":0,\"ticks\":\"\"}},\"marker\":{\"colorbar\":{\"outlinewidth\":0,\"ticks\":\"\"}},\"type\":\"scatter3d\"}],\"scattercarpet\":[{\"marker\":{\"colorbar\":{\"outlinewidth\":0,\"ticks\":\"\"}},\"type\":\"scattercarpet\"}],\"scattergeo\":[{\"marker\":{\"colorbar\":{\"outlinewidth\":0,\"ticks\":\"\"}},\"type\":\"scattergeo\"}],\"scattergl\":[{\"marker\":{\"colorbar\":{\"outlinewidth\":0,\"ticks\":\"\"}},\"type\":\"scattergl\"}],\"scattermapbox\":[{\"marker\":{\"colorbar\":{\"outlinewidth\":0,\"ticks\":\"\"}},\"type\":\"scattermapbox\"}],\"scatterpolargl\":[{\"marker\":{\"colorbar\":{\"outlinewidth\":0,\"ticks\":\"\"}},\"type\":\"scatterpolargl\"}],\"scatterpolar\":[{\"marker\":{\"colorbar\":{\"outlinewidth\":0,\"ticks\":\"\"}},\"type\":\"scatterpolar\"}],\"scatter\":[{\"marker\":{\"colorbar\":{\"outlinewidth\":0,\"ticks\":\"\"}},\"type\":\"scatter\"}],\"scatterternary\":[{\"marker\":{\"colorbar\":{\"outlinewidth\":0,\"ticks\":\"\"}},\"type\":\"scatterternary\"}],\"surface\":[{\"colorbar\":{\"outlinewidth\":0,\"ticks\":\"\"},\"colorscale\":[[0.0,\"#0d0887\"],[0.1111111111111111,\"#46039f\"],[0.2222222222222222,\"#7201a8\"],[0.3333333333333333,\"#9c179e\"],[0.4444444444444444,\"#bd3786\"],[0.5555555555555556,\"#d8576b\"],[0.6666666666666666,\"#ed7953\"],[0.7777777777777778,\"#fb9f3a\"],[0.8888888888888888,\"#fdca26\"],[1.0,\"#f0f921\"]],\"type\":\"surface\"}],\"table\":[{\"cells\":{\"fill\":{\"color\":\"#EBF0F8\"},\"line\":{\"color\":\"white\"}},\"header\":{\"fill\":{\"color\":\"#C8D4E3\"},\"line\":{\"color\":\"white\"}},\"type\":\"table\"}]},\"layout\":{\"annotationdefaults\":{\"arrowcolor\":\"#2a3f5f\",\"arrowhead\":0,\"arrowwidth\":1},\"autotypenumbers\":\"strict\",\"coloraxis\":{\"colorbar\":{\"outlinewidth\":0,\"ticks\":\"\"}},\"colorscale\":{\"diverging\":[[0,\"#8e0152\"],[0.1,\"#c51b7d\"],[0.2,\"#de77ae\"],[0.3,\"#f1b6da\"],[0.4,\"#fde0ef\"],[0.5,\"#f7f7f7\"],[0.6,\"#e6f5d0\"],[0.7,\"#b8e186\"],[0.8,\"#7fbc41\"],[0.9,\"#4d9221\"],[1,\"#276419\"]],\"sequential\":[[0.0,\"#0d0887\"],[0.1111111111111111,\"#46039f\"],[0.2222222222222222,\"#7201a8\"],[0.3333333333333333,\"#9c179e\"],[0.4444444444444444,\"#bd3786\"],[0.5555555555555556,\"#d8576b\"],[0.6666666666666666,\"#ed7953\"],[0.7777777777777778,\"#fb9f3a\"],[0.8888888888888888,\"#fdca26\"],[1.0,\"#f0f921\"]],\"sequentialminus\":[[0.0,\"#0d0887\"],[0.1111111111111111,\"#46039f\"],[0.2222222222222222,\"#7201a8\"],[0.3333333333333333,\"#9c179e\"],[0.4444444444444444,\"#bd3786\"],[0.5555555555555556,\"#d8576b\"],[0.6666666666666666,\"#ed7953\"],[0.7777777777777778,\"#fb9f3a\"],[0.8888888888888888,\"#fdca26\"],[1.0,\"#f0f921\"]]},\"colorway\":[\"#636efa\",\"#EF553B\",\"#00cc96\",\"#ab63fa\",\"#FFA15A\",\"#19d3f3\",\"#FF6692\",\"#B6E880\",\"#FF97FF\",\"#FECB52\"],\"font\":{\"color\":\"#2a3f5f\"},\"geo\":{\"bgcolor\":\"white\",\"lakecolor\":\"white\",\"landcolor\":\"white\",\"showlakes\":true,\"showland\":true,\"subunitcolor\":\"#C8D4E3\"},\"hoverlabel\":{\"align\":\"left\"},\"hovermode\":\"closest\",\"mapbox\":{\"style\":\"light\"},\"paper_bgcolor\":\"white\",\"plot_bgcolor\":\"white\",\"polar\":{\"angularaxis\":{\"gridcolor\":\"#EBF0F8\",\"linecolor\":\"#EBF0F8\",\"ticks\":\"\"},\"bgcolor\":\"white\",\"radialaxis\":{\"gridcolor\":\"#EBF0F8\",\"linecolor\":\"#EBF0F8\",\"ticks\":\"\"}},\"scene\":{\"xaxis\":{\"backgroundcolor\":\"white\",\"gridcolor\":\"#DFE8F3\",\"gridwidth\":2,\"linecolor\":\"#EBF0F8\",\"showbackground\":true,\"ticks\":\"\",\"zerolinecolor\":\"#EBF0F8\"},\"yaxis\":{\"backgroundcolor\":\"white\",\"gridcolor\":\"#DFE8F3\",\"gridwidth\":2,\"linecolor\":\"#EBF0F8\",\"showbackground\":true,\"ticks\":\"\",\"zerolinecolor\":\"#EBF0F8\"},\"zaxis\":{\"backgroundcolor\":\"white\",\"gridcolor\":\"#DFE8F3\",\"gridwidth\":2,\"linecolor\":\"#EBF0F8\",\"showbackground\":true,\"ticks\":\"\",\"zerolinecolor\":\"#EBF0F8\"}},\"shapedefaults\":{\"line\":{\"color\":\"#2a3f5f\"}},\"ternary\":{\"aaxis\":{\"gridcolor\":\"#DFE8F3\",\"linecolor\":\"#A2B1C6\",\"ticks\":\"\"},\"baxis\":{\"gridcolor\":\"#DFE8F3\",\"linecolor\":\"#A2B1C6\",\"ticks\":\"\"},\"bgcolor\":\"white\",\"caxis\":{\"gridcolor\":\"#DFE8F3\",\"linecolor\":\"#A2B1C6\",\"ticks\":\"\"}},\"title\":{\"x\":0.05},\"xaxis\":{\"automargin\":true,\"gridcolor\":\"#EBF0F8\",\"linecolor\":\"#EBF0F8\",\"ticks\":\"\",\"title\":{\"standoff\":15},\"zerolinecolor\":\"#EBF0F8\",\"zerolinewidth\":2},\"yaxis\":{\"automargin\":true,\"gridcolor\":\"#EBF0F8\",\"linecolor\":\"#EBF0F8\",\"ticks\":\"\",\"title\":{\"standoff\":15},\"zerolinecolor\":\"#EBF0F8\",\"zerolinewidth\":2}}},\"xaxis\":{\"anchor\":\"y\",\"domain\":[0.0,1.0],\"title\":{\"text\":\"Frecuencia\"}},\"yaxis\":{\"anchor\":\"x\",\"domain\":[0.0,1.0],\"title\":{\"text\":\"Resultado\"}},\"legend\":{\"title\":{\"text\":\"variable\"},\"tracegroupgap\":0},\"margin\":{\"t\":60},\"barmode\":\"relative\",\"title\":{\"text\":\"Simulaci\\u00f3n de tirar mil volados\"}},                        {\"responsive\": true}                    ).then(function(){\n",
              "                            \n",
              "var gd = document.getElementById('f25afc6f-55b9-4b9f-8dba-73402241409a');\n",
              "var x = new MutationObserver(function (mutations, observer) {{\n",
              "        var display = window.getComputedStyle(gd).display;\n",
              "        if (!display || display === 'none') {{\n",
              "            console.log([gd, 'removed!']);\n",
              "            Plotly.purge(gd);\n",
              "            observer.disconnect();\n",
              "        }}\n",
              "}});\n",
              "\n",
              "// Listen for the removal of the full notebook cells\n",
              "var notebookContainer = gd.closest('#notebook-container');\n",
              "if (notebookContainer) {{\n",
              "    x.observe(notebookContainer, {childList: true});\n",
              "}}\n",
              "\n",
              "// Listen for the clearing of the current output cell\n",
              "var outputEl = gd.closest('.output');\n",
              "if (outputEl) {{\n",
              "    x.observe(outputEl, {childList: true});\n",
              "}}\n",
              "\n",
              "                        })                };                            </script>        </div>\n",
              "</body>\n",
              "</html>"
            ]
          },
          "metadata": {}
        }
      ]
    },
    {
      "cell_type": "code",
      "source": [],
      "metadata": {
        "id": "7_ZB1DyNK1eK"
      },
      "execution_count": null,
      "outputs": []
    },
    {
      "cell_type": "markdown",
      "source": [
        "Se puede observar que la aparición de Águilas con respecto a Soles es drásticamente diferente. En este caso, es por mucho menor el antedicho. La conclusión a la que llego yo es que, aunque la posibilidad de que \"caiga la moneda\" de un lado o de otro sea del 50%, esto no se debería de cumplir con respecto a la cantidad de apariciones. Creer lo contrario es caer en la falacia del apostador. Empero, cuando la cantidad de 'volados' es pequeña, la diferencia es notoria. En contraste, cuando la cantidad de 'volados' tiende al infinito, se aproxima a una igualdad con respecto al número de apariciones de cada lado."
      ],
      "metadata": {
        "id": "WpdwD5f6J1ec"
      }
    }
  ]
}